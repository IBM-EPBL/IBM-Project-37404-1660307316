{
 "cells": [
  {
   "cell_type": "code",
   "execution_count": 1,
   "id": "1f0179e7",
   "metadata": {
    "scrolled": true
   },
   "outputs": [],
   "source": [
    "import cv2  # opencv\n",
    "import pandas as pd\n",
    "from keras.preprocessing.image import ImageDataGenerator"
   ]
  },
  {
   "cell_type": "code",
   "execution_count": 2,
   "id": "97797735",
   "metadata": {},
   "outputs": [],
   "source": [
    "train_datagen = ImageDataGenerator(\n",
    "    rescale=1./255, shear_range=0.2, zoom_range=0.2, horizontal_flip=True)\n",
    "test_datagen = ImageDataGenerator(rescale=1./255)\n"
   ]
  },
  {
   "cell_type": "code",
   "execution_count": 8,
   "id": "68dcc194",
   "metadata": {},
   "outputs": [
    {
     "name": "stdout",
     "output_type": "stream",
     "text": [
      "Found 594 images belonging to 6 classes.\n",
      "Found 30 images belonging to 6 classes.\n"
     ]
    }
   ],
   "source": [
    "x_train = train_datagen.flow_from_directory(\n",
    "    r'..\\Sprint 1\\Dataset\\Train', target_size=(64, 64), batch_size=(32), class_mode=\"categorical\")\n",
    "x_test = train_datagen.flow_from_directory(\n",
    "    r'..\\Sprint 1\\Dataset\\Test', target_size=(64, 64), batch_size=(32), class_mode=\"categorical\")\n"
   ]
  },
  {
   "cell_type": "code",
   "execution_count": null,
   "id": "82c41f19",
   "metadata": {},
   "outputs": [],
   "source": []
  }
 ],
 "metadata": {
  "kernelspec": {
   "display_name": "Python 3.9.7 ('base')",
   "language": "python",
   "name": "python3"
  },
  "language_info": {
   "codemirror_mode": {
    "name": "ipython",
    "version": 3
   },
   "file_extension": ".py",
   "mimetype": "text/x-python",
   "name": "python",
   "nbconvert_exporter": "python",
   "pygments_lexer": "ipython3",
   "version": "3.9.7"
  },
  "vscode": {
   "interpreter": {
    "hash": "0db61f757b51de26a17ee59b2429c18831698e77094321a02e308ae8d61c4de2"
   }
  }
 },
 "nbformat": 4,
 "nbformat_minor": 5
}
