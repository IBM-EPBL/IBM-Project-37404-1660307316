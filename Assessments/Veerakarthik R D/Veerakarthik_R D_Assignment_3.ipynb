{
 "cells": [
  {
   "cell_type": "markdown",
   "id": "d365b03a",
   "metadata": {},
   "source": [
    "# IMAGE AUGMENTATION"
   ]
  },
  {
   "cell_type": "code",
   "execution_count": 9,
   "id": "2eb458a1",
   "metadata": {},
   "outputs": [],
   "source": [
    "from tensorflow.keras.preprocessing.image import ImageDataGenerator\n",
    "from tensorflow.keras.preprocessing.image import load_img\n",
    "import scipy\n",
    "import sklearn\n",
    "import numpy"
   ]
  },
  {
   "cell_type": "code",
   "execution_count": 10,
   "id": "b5a52ff4",
   "metadata": {},
   "outputs": [],
   "source": [
    "train_datagen=ImageDataGenerator(rescale=1./255, zoom_range=0.2,horizontal_flip=True,vertical_flip=False)"
   ]
  },
  {
   "cell_type": "code",
   "execution_count": 11,
   "id": "3f125d88",
   "metadata": {},
   "outputs": [],
   "source": [
    "test_datagen=ImageDataGenerator(rescale=1./255)"
   ]
  },
  {
   "cell_type": "code",
   "execution_count": 12,
   "id": "3dd963e8",
   "metadata": {},
   "outputs": [
    {
     "name": "stdout",
     "output_type": "stream",
     "text": [
      "Found 4317 images belonging to 5 classes.\n"
     ]
    }
   ],
   "source": [
    "x_train=train_datagen.flow_from_directory(r\"D:\\Flowers-Dataset\\flowers\",target_size=(64,64),class_mode='categorical',batch_size=24)"
   ]
  },
  {
   "cell_type": "code",
   "execution_count": 13,
   "id": "2f99ca99",
   "metadata": {},
   "outputs": [
    {
     "name": "stdout",
     "output_type": "stream",
     "text": [
      "Found 4317 images belonging to 5 classes.\n"
     ]
    }
   ],
   "source": [
    "x_test=test_datagen.flow_from_directory(r\"D:\\Flowers-Dataset\\flowers\",target_size=(64,64),class_mode='categorical',batch_size=24)"
   ]
  },
  {
   "cell_type": "code",
   "execution_count": 14,
   "id": "ecd8f148",
   "metadata": {},
   "outputs": [
    {
     "data": {
      "text/plain": [
       "{'daisy': 0, 'dandelion': 1, 'rose': 2, 'sunflower': 3, 'tulip': 4}"
      ]
     },
     "execution_count": 14,
     "metadata": {},
     "output_type": "execute_result"
    }
   ],
   "source": [
    "x_train.class_indices"
   ]
  },
  {
   "cell_type": "markdown",
   "id": "263fc222",
   "metadata": {},
   "source": [
    "# INITIALIZING CNN AND CREATE MODEL"
   ]
  },
  {
   "cell_type": "code",
   "execution_count": 15,
   "id": "a92e7167",
   "metadata": {},
   "outputs": [],
   "source": [
    "from tensorflow.keras.models import Sequential\n",
    "from tensorflow.keras.layers import Dense,Convolution2D,MaxPooling2D,Flatten"
   ]
  },
  {
   "cell_type": "markdown",
   "id": "89b6cede",
   "metadata": {},
   "source": [
    "# ADD LAYERS"
   ]
  },
  {
   "cell_type": "code",
   "execution_count": 16,
   "id": "f2107efe",
   "metadata": {},
   "outputs": [],
   "source": [
    "model=Sequential()"
   ]
  },
  {
   "cell_type": "markdown",
   "id": "457a52a9",
   "metadata": {},
   "source": [
    "# INPUT LAYERS (CONVOLUTION ,MAXPOOLING,FLATTEN)"
   ]
  },
  {
   "cell_type": "code",
   "execution_count": 17,
   "id": "76395297",
   "metadata": {},
   "outputs": [],
   "source": [
    "model.add(Convolution2D(32,(3,3),input_shape=(64,64,3),activation='relu'))"
   ]
  },
  {
   "cell_type": "code",
   "execution_count": 18,
   "id": "3b9af2d6",
   "metadata": {},
   "outputs": [],
   "source": [
    "model.add(MaxPooling2D(pool_size=(2,2)))"
   ]
  },
  {
   "cell_type": "code",
   "execution_count": 19,
   "id": "dd0d68ae",
   "metadata": {},
   "outputs": [],
   "source": [
    "model.add(Flatten())"
   ]
  },
  {
   "cell_type": "code",
   "execution_count": 13,
   "id": "2c15a12d",
   "metadata": {},
   "outputs": [
    {
     "name": "stdout",
     "output_type": "stream",
     "text": [
      "Model: \"sequential\"\n",
      "_________________________________________________________________\n",
      " Layer (type)                Output Shape              Param #   \n",
      "=================================================================\n",
      " conv2d (Conv2D)             (None, 62, 62, 32)        896       \n",
      "                                                                 \n",
      " max_pooling2d (MaxPooling2D  (None, 31, 31, 32)       0         \n",
      " )                                                               \n",
      "                                                                 \n",
      " flatten (Flatten)           (None, 30752)             0         \n",
      "                                                                 \n",
      "=================================================================\n",
      "Total params: 896\n",
      "Trainable params: 896\n",
      "Non-trainable params: 0\n",
      "_________________________________________________________________\n"
     ]
    }
   ],
   "source": [
    "model.summary()"
   ]
  },
  {
   "cell_type": "markdown",
   "id": "4f9497c7",
   "metadata": {},
   "source": [
    "# HIDDEN LAYERS"
   ]
  },
  {
   "cell_type": "code",
   "execution_count": 20,
   "id": "eb0bd983",
   "metadata": {},
   "outputs": [],
   "source": [
    "model.add(Dense(300,activation='relu'))\n",
    "model.add(Dense(150,activation='relu'))"
   ]
  },
  {
   "cell_type": "markdown",
   "id": "e7e6ba46",
   "metadata": {},
   "source": [
    "# OUTPUT LAYERS"
   ]
  },
  {
   "cell_type": "code",
   "execution_count": 21,
   "id": "c2bcd83c",
   "metadata": {},
   "outputs": [],
   "source": [
    "model.add(Dense(5,activation='softmax'))"
   ]
  },
  {
   "cell_type": "code",
   "execution_count": 22,
   "id": "f613e5da",
   "metadata": {},
   "outputs": [],
   "source": [
    "model.compile(loss='categorical_crossentropy',optimizer='adam',metrics=['accuracy'])"
   ]
  },
  {
   "cell_type": "code",
   "execution_count": 23,
   "id": "a00f7587",
   "metadata": {},
   "outputs": [
    {
     "data": {
      "text/plain": [
       "180"
      ]
     },
     "execution_count": 23,
     "metadata": {},
     "output_type": "execute_result"
    }
   ],
   "source": [
    "len(x_train)"
   ]
  },
  {
   "cell_type": "markdown",
   "id": "fd306589",
   "metadata": {},
   "source": [
    "# TRAIN THE MODEL"
   ]
  },
  {
   "cell_type": "code",
   "execution_count": 24,
   "id": "a5080cc9",
   "metadata": {},
   "outputs": [
    {
     "name": "stdout",
     "output_type": "stream",
     "text": [
      "Epoch 1/30\n",
      "180/180 [==============================] - 43s 233ms/step - loss: 1.2293 - accuracy: 0.4973 - val_loss: 0.9997 - val_accuracy: 0.6027\n",
      "Epoch 2/30\n",
      "180/180 [==============================] - 23s 129ms/step - loss: 0.9876 - accuracy: 0.6141 - val_loss: 1.0692 - val_accuracy: 0.5974\n",
      "Epoch 3/30\n",
      "180/180 [==============================] - 30s 165ms/step - loss: 0.9070 - accuracy: 0.6579 - val_loss: 1.0541 - val_accuracy: 0.5983\n",
      "Epoch 4/30\n",
      "180/180 [==============================] - 28s 158ms/step - loss: 0.8558 - accuracy: 0.6826 - val_loss: 0.8541 - val_accuracy: 0.6690\n",
      "Epoch 5/30\n",
      "180/180 [==============================] - 22s 122ms/step - loss: 0.8115 - accuracy: 0.6912 - val_loss: 0.6428 - val_accuracy: 0.7570\n",
      "Epoch 6/30\n",
      "180/180 [==============================] - 28s 155ms/step - loss: 0.7304 - accuracy: 0.7246 - val_loss: 0.6840 - val_accuracy: 0.7408\n",
      "Epoch 7/30\n",
      "180/180 [==============================] - 36s 202ms/step - loss: 0.6882 - accuracy: 0.7403 - val_loss: 0.7536 - val_accuracy: 0.7274\n",
      "Epoch 8/30\n",
      "180/180 [==============================] - 23s 130ms/step - loss: 0.6365 - accuracy: 0.7593 - val_loss: 0.6640 - val_accuracy: 0.7635\n",
      "Epoch 9/30\n",
      "180/180 [==============================] - 22s 124ms/step - loss: 0.6090 - accuracy: 0.7667 - val_loss: 0.5157 - val_accuracy: 0.8156\n",
      "Epoch 10/30\n",
      "180/180 [==============================] - 36s 199ms/step - loss: 0.5619 - accuracy: 0.7890 - val_loss: 0.5129 - val_accuracy: 0.8045\n",
      "Epoch 11/30\n",
      "180/180 [==============================] - 22s 124ms/step - loss: 0.5055 - accuracy: 0.8084 - val_loss: 0.4905 - val_accuracy: 0.8230\n",
      "Epoch 12/30\n",
      "180/180 [==============================] - 22s 123ms/step - loss: 0.4802 - accuracy: 0.8230 - val_loss: 0.3164 - val_accuracy: 0.8886\n",
      "Epoch 13/30\n",
      "180/180 [==============================] - 28s 158ms/step - loss: 0.4175 - accuracy: 0.8427 - val_loss: 0.3251 - val_accuracy: 0.8826\n",
      "Epoch 14/30\n",
      "180/180 [==============================] - 28s 156ms/step - loss: 0.4165 - accuracy: 0.8446 - val_loss: 0.3444 - val_accuracy: 0.8789\n",
      "Epoch 15/30\n",
      "180/180 [==============================] - 22s 123ms/step - loss: 0.3830 - accuracy: 0.8656 - val_loss: 0.3174 - val_accuracy: 0.8890\n",
      "Epoch 16/30\n",
      "180/180 [==============================] - 26s 143ms/step - loss: 0.3408 - accuracy: 0.8770 - val_loss: 0.4007 - val_accuracy: 0.8652\n",
      "Epoch 17/30\n",
      "180/180 [==============================] - 32s 179ms/step - loss: 0.3261 - accuracy: 0.8830 - val_loss: 0.2740 - val_accuracy: 0.9032\n",
      "Epoch 18/30\n",
      "180/180 [==============================] - 22s 123ms/step - loss: 0.2944 - accuracy: 0.8960 - val_loss: 0.2644 - val_accuracy: 0.9080\n",
      "Epoch 19/30\n",
      "180/180 [==============================] - 22s 124ms/step - loss: 0.2796 - accuracy: 0.9036 - val_loss: 0.1943 - val_accuracy: 0.9317\n",
      "Epoch 20/30\n",
      "180/180 [==============================] - 28s 155ms/step - loss: 0.2545 - accuracy: 0.9066 - val_loss: 0.2236 - val_accuracy: 0.9199\n",
      "Epoch 21/30\n",
      "180/180 [==============================] - 27s 152ms/step - loss: 0.2344 - accuracy: 0.9166 - val_loss: 0.1307 - val_accuracy: 0.9548\n",
      "Epoch 22/30\n",
      "180/180 [==============================] - 22s 123ms/step - loss: 0.2194 - accuracy: 0.9270 - val_loss: 0.1216 - val_accuracy: 0.9629\n",
      "Epoch 23/30\n",
      "180/180 [==============================] - 23s 130ms/step - loss: 0.2172 - accuracy: 0.9217 - val_loss: 0.2193 - val_accuracy: 0.9201\n",
      "Epoch 24/30\n",
      "180/180 [==============================] - 36s 199ms/step - loss: 0.2013 - accuracy: 0.9351 - val_loss: 0.2168 - val_accuracy: 0.9324\n",
      "Epoch 25/30\n",
      "180/180 [==============================] - 22s 124ms/step - loss: 0.2194 - accuracy: 0.9233 - val_loss: 0.1580 - val_accuracy: 0.9437\n",
      "Epoch 26/30\n",
      "180/180 [==============================] - 23s 128ms/step - loss: 0.1709 - accuracy: 0.9416 - val_loss: 0.1303 - val_accuracy: 0.9578\n",
      "Epoch 27/30\n",
      "180/180 [==============================] - 24s 132ms/step - loss: 0.1610 - accuracy: 0.9481 - val_loss: 0.1315 - val_accuracy: 0.9497\n",
      "Epoch 28/30\n",
      "180/180 [==============================] - 28s 157ms/step - loss: 0.1636 - accuracy: 0.9467 - val_loss: 0.1814 - val_accuracy: 0.9419\n",
      "Epoch 29/30\n",
      "180/180 [==============================] - 28s 153ms/step - loss: 0.1463 - accuracy: 0.9483 - val_loss: 0.1588 - val_accuracy: 0.9488\n",
      "Epoch 30/30\n",
      "180/180 [==============================] - 23s 131ms/step - loss: 0.1807 - accuracy: 0.9395 - val_loss: 0.1335 - val_accuracy: 0.9562\n"
     ]
    },
    {
     "data": {
      "text/plain": [
       "<keras.callbacks.History at 0x19f0cf04400>"
      ]
     },
     "execution_count": 24,
     "metadata": {},
     "output_type": "execute_result"
    }
   ],
   "source": [
    "model.fit(x_train,steps_per_epoch=len(x_train), validation_data=x_test, validation_steps=len(x_test), epochs= 30)"
   ]
  },
  {
   "cell_type": "markdown",
   "id": "a741beb5",
   "metadata": {},
   "source": [
    "# SAVE THE MODEL"
   ]
  },
  {
   "cell_type": "code",
   "execution_count": 29,
   "id": "28755a1e",
   "metadata": {},
   "outputs": [],
   "source": [
    "model.save('Flowers_classification_model.h5')"
   ]
  },
  {
   "cell_type": "markdown",
   "id": "71dee3b7",
   "metadata": {},
   "source": [
    "# TEST THE MODEL"
   ]
  },
  {
   "cell_type": "code",
   "execution_count": 33,
   "id": "143dcf34",
   "metadata": {},
   "outputs": [],
   "source": [
    "import numpy as np\n",
    "from tensorflow.keras.models import load_model\n",
    "from tensorflow.keras.preprocessing import image"
   ]
  },
  {
   "cell_type": "code",
   "execution_count": 34,
   "id": "f8b3f1a6",
   "metadata": {},
   "outputs": [],
   "source": [
    "# Load the model\n",
    "model=load_model('Flowers_classification_model.h5')"
   ]
  },
  {
   "cell_type": "code",
   "execution_count": 39,
   "id": "2a7003f9",
   "metadata": {},
   "outputs": [],
   "source": [
    "img=image.load_img(r\"D:\\Flowers-Dataset\\flowers\\daisy\\6095817094_3a5b1d793d.jpg\",target_size=(64,64))"
   ]
  },
  {
   "cell_type": "code",
   "execution_count": 40,
   "id": "aba88a3b",
   "metadata": {},
   "outputs": [
    {
     "data": {
      "image/png": "[encoded data removed]",
      "text/plain": [
       "<PIL.Image.Image image mode=RGB size=64x64>"
      ]
     },
     "execution_count": 40,
     "metadata": {},
     "output_type": "execute_result"
    }
   ],
   "source": [
    "img"
   ]
  },
  {
   "cell_type": "code",
   "execution_count": 42,
   "id": "d6fa8fbf",
   "metadata": {},
   "outputs": [
    {
     "name": "stdout",
     "output_type": "stream",
     "text": [
      "1/1 [==============================] - 0s 36ms/step\n"
     ]
    },
    {
     "data": {
      "text/plain": [
       "'daisy'"
      ]
     },
     "execution_count": 42,
     "metadata": {},
     "output_type": "execute_result"
    }
   ],
   "source": [
    "x=image.img_to_array(img)\n",
    "x=np.expand_dims(x,axis=0)\n",
    "y=np.argmax(model.predict(x),axis=1)\n",
    "# x_train.class_indices\n",
    "index=['daisy','dandelion','rose','sunflower','tulip']\n",
    "index[y[0]]"
   ]
  },
  {
   "cell_type": "code",
   "execution_count": null,
   "id": "a0b8d740",
   "metadata": {},
   "outputs": [],
   "source": []
  },
  {
   "cell_type": "code",
   "execution_count": null,
   "id": "454eaa66",
   "metadata": {},
   "outputs": [],
   "source": []
  },
  {
   "cell_type": "code",
   "execution_count": null,
   "id": "d165f4fe",
   "metadata": {},
   "outputs": [],
   "source": []
  },
  {
   "cell_type": "code",
   "execution_count": null,
   "id": "14f4bf79",
   "metadata": {},
   "outputs": [],
   "source": []
  },
  {
   "cell_type": "code",
   "execution_count": null,
   "id": "e10e79ad",
   "metadata": {},
   "outputs": [],
   "source": []
  },
  {
   "cell_type": "code",
   "execution_count": null,
   "id": "db0dfb8b",
   "metadata": {},
   "outputs": [],
   "source": []
  },
  {
   "cell_type": "code",
   "execution_count": null,
   "id": "cb79d389",
   "metadata": {},
   "outputs": [],
   "source": []
  },
  {
   "cell_type": "code",
   "execution_count": null,
   "id": "b559c9e6",
   "metadata": {},
   "outputs": [],
   "source": []
  }
 ],
 "metadata": {
  "kernelspec": {
   "display_name": "Python 3 (ipykernel)",
   "language": "python",
   "name": "python3"
  },
  "language_info": {
   "codemirror_mode": {
    "name": "ipython",
    "version": 3
   },
   "file_extension": ".py",
   "mimetype": "text/x-python",
   "name": "python",
   "nbconvert_exporter": "python",
   "pygments_lexer": "ipython3",
   "version": "3.10.1"
  }
 },
 "nbformat": 4,
 "nbformat_minor": 5
}
